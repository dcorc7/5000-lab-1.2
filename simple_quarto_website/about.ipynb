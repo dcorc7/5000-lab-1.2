{
  "cells": [
    {
      "cell_type": "markdown",
      "metadata": {},
      "source": [
        "---\n",
        "title: \"About\"\n",
        "---\n",
        "\n",
        "About this site\n",
        "\n",
        "# Section 1\n",
        "Lorem ipsum odor amet, consectetuer adipiscing elit. Netus vel litora scelerisque natoque per vitae sociosqu. Lobortis fermentum sit montes nascetur cras netus donec mollis. Enim ex ridiculus viverra cras libero; torquent consequat. Facilisis dignissim et netus natoque est sagittis mi. Felis natoque sollicitudin varius vivamus; tincidunt faucibus litora purus. Et augue nulla lobortis dapibus dui; pulvinar tempor varius risus.\n",
        "\n",
        "## Section 1.1\n",
        "Metus ullamcorper convallis commodo; finibus sollicitudin interdum. Ut cubilia proin quis; sollicitudin aptent convallis finibus. Mus erat quam adipiscing leo quisque ridiculus quisque. Pharetra condimentum pretium class mollis consectetur; leo semper habitasse. Hendrerit nunc ex dictum tellus leo sollicitudin penatibus. Purus pulvinar turpis, ligula inceptos parturient per. Vel venenatis sollicitudin ligula euismod etiam ipsum.\n",
        "\n",
        "```{python}\n",
        "#| label: fig\n",
        "\n",
        "import numpy as np\n",
        "import matplotlib.pyplot as plt\n",
        "\n",
        "df = sns.load_dataset(\"penguins\")\n",
        "\n",
        "# Establishing font size as 18\n",
        "FS = 18\n",
        "\n",
        "# Creating the 3 graphs based on penguin islands\n",
        "my_plot = sns.jointplot(\n",
        "    data = df,\n",
        "    x = \"flipper_length_mm\",\n",
        "    y = \"bill_length_mm\",\n",
        "    hue = \"species\",\n",
        "    palette = \"Pastel1\",\n",
        "    s = 200\n",
        ")\n",
        "\n",
        "# Setting x and y labels\n",
        "my_plot.set_axis_labels(\"Penguin flipper length (mm)\", \"Penguin bill length (mm)\", fontsize = FS)\n",
        "\n",
        "# Increase axis tick size\n",
        "plt.tick_params(axis = \"both\", labelsize = FS)\n",
        "\n",
        "# Save the graph as pdf\n",
        "my_plot.savefig(\"plot-2.pdf\", bbox_inches = \"tight\")\n",
        "\n",
        "```"
      ]
    }
  ],
  "metadata": {
    "kernelspec": {
      "display_name": "Python 3",
      "language": "python",
      "name": "python3"
    }
  },
  "nbformat": 4,
  "nbformat_minor": 4
}
